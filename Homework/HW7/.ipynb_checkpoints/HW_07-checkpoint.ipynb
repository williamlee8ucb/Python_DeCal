{
 "cells": [
  {
   "cell_type": "code",
   "execution_count": 72,
   "id": "ffa6d589",
   "metadata": {},
   "outputs": [],
   "source": [
    "import numpy as np\n",
    "import pandas as pd"
   ]
  },
  {
   "cell_type": "code",
   "execution_count": 73,
   "id": "171b5077",
   "metadata": {},
   "outputs": [],
   "source": [
    "# 1) Analyzing Air Quality Data"
   ]
  },
  {
   "cell_type": "code",
   "execution_count": 74,
   "id": "518bb3da",
   "metadata": {},
   "outputs": [
    {
     "name": "stdout",
     "output_type": "stream",
     "text": [
      "     IndicatorCode                                          Indicator  \\\n",
      "0          SDGPM25  Concentrations of fine particulate matter (PM2.5)   \n",
      "1          SDGPM25  Concentrations of fine particulate matter (PM2.5)   \n",
      "2          SDGPM25  Concentrations of fine particulate matter (PM2.5)   \n",
      "3          SDGPM25  Concentrations of fine particulate matter (PM2.5)   \n",
      "4          SDGPM25  Concentrations of fine particulate matter (PM2.5)   \n",
      "...            ...                                                ...   \n",
      "9445       SDGPM25  Concentrations of fine particulate matter (PM2.5)   \n",
      "9446       SDGPM25  Concentrations of fine particulate matter (PM2.5)   \n",
      "9447       SDGPM25  Concentrations of fine particulate matter (PM2.5)   \n",
      "9448       SDGPM25  Concentrations of fine particulate matter (PM2.5)   \n",
      "9449       SDGPM25  Concentrations of fine particulate matter (PM2.5)   \n",
      "\n",
      "     ValueType ParentLocationCode         ParentLocation Location type  \\\n",
      "0         text                AFR                 Africa       Country   \n",
      "1         text                AMR               Americas       Country   \n",
      "2         text                EUR                 Europe       Country   \n",
      "3         text                AMR               Americas       Country   \n",
      "4         text                AMR               Americas       Country   \n",
      "...        ...                ...                    ...           ...   \n",
      "9445      text                AMR               Americas       Country   \n",
      "9446      text                AMR               Americas       Country   \n",
      "9447      text                AFR                 Africa       Country   \n",
      "9448      text                AMR               Americas       Country   \n",
      "9449      text                EMR  Eastern Mediterranean       Country   \n",
      "\n",
      "     SpatialDimValueCode                                           Location  \\\n",
      "0                    KEN                                              Kenya   \n",
      "1                    TTO                                Trinidad and Tobago   \n",
      "2                    GBR  United Kingdom of Great Britain and Northern I...   \n",
      "3                    GRD                                            Grenada   \n",
      "4                    BRA                                             Brazil   \n",
      "...                  ...                                                ...   \n",
      "9445                 BLZ                                             Belize   \n",
      "9446                 TTO                                Trinidad and Tobago   \n",
      "9447                 KEN                                              Kenya   \n",
      "9448                 USA                           United States of America   \n",
      "9449                 AFG                                        Afghanistan   \n",
      "\n",
      "     Period type  Period  ...  FactValueUoM FactValueNumericLowPrefix  \\\n",
      "0           Year    2019  ...           NaN                       NaN   \n",
      "1           Year    2019  ...           NaN                       NaN   \n",
      "2           Year    2019  ...           NaN                       NaN   \n",
      "3           Year    2019  ...           NaN                       NaN   \n",
      "4           Year    2019  ...           NaN                       NaN   \n",
      "...          ...     ...  ...           ...                       ...   \n",
      "9445        Year    2010  ...           NaN                       NaN   \n",
      "9446        Year    2010  ...           NaN                       NaN   \n",
      "9447        Year    2010  ...           NaN                       NaN   \n",
      "9448        Year    2010  ...           NaN                       NaN   \n",
      "9449        Year    2010  ...           NaN                       NaN   \n",
      "\n",
      "     FactValueNumericLow FactValueNumericHighPrefix  FactValueNumericHigh  \\\n",
      "0                   6.29                        NaN                 13.74   \n",
      "1                   7.44                        NaN                 12.55   \n",
      "2                   9.73                        NaN                 10.39   \n",
      "3                   7.07                        NaN                 13.20   \n",
      "4                   8.23                        NaN                 12.46   \n",
      "...                  ...                        ...                   ...   \n",
      "9445                3.91                        NaN                 20.28   \n",
      "9446                7.80                        NaN                 12.89   \n",
      "9447                6.30                        NaN                 13.57   \n",
      "9448                9.78                        NaN                 10.11   \n",
      "9449               66.17                        NaN                128.40   \n",
      "\n",
      "                     Value  FactValueTranslationID  FactComments  Language  \\\n",
      "0       10.01 [6.29-13.74]                     NaN           NaN        EN   \n",
      "1       10.02 [7.44-12.55]                     NaN           NaN        EN   \n",
      "2       10.06 [9.73-10.39]                     NaN           NaN        EN   \n",
      "3       10.08 [7.07-13.20]                     NaN           NaN        EN   \n",
      "4       10.09 [8.23-12.46]                     NaN           NaN        EN   \n",
      "...                    ...                     ...           ...       ...   \n",
      "9445     9.92 [3.91-20.28]                     NaN           NaN        EN   \n",
      "9446     9.92 [7.80-12.89]                     NaN           NaN        EN   \n",
      "9447     9.94 [6.30-13.57]                     NaN           NaN        EN   \n",
      "9448     9.95 [9.78-10.11]                     NaN           NaN        EN   \n",
      "9449  92.79 [66.17-128.44]                     NaN           NaN        EN   \n",
      "\n",
      "             DateModified  \n",
      "0     2022-08-12 00:00:00  \n",
      "1     2022-08-12 00:00:00  \n",
      "2     2022-08-12 00:00:00  \n",
      "3     2022-08-12 00:00:00  \n",
      "4     2022-08-12 00:00:00  \n",
      "...                   ...  \n",
      "9445  2022-08-12 00:00:00  \n",
      "9446  2022-08-12 00:00:00  \n",
      "9447  2022-08-12 00:00:00  \n",
      "9448  2022-08-12 00:00:00  \n",
      "9449  2022-08-12 00:00:00  \n",
      "\n",
      "[9450 rows x 34 columns]\n"
     ]
    }
   ],
   "source": [
    "# 1.1: Load the Data\n",
    "\n",
    "air_quality = pd.read_csv(\"global_air_quality.csv\")\n",
    "print(air_quality)"
   ]
  },
  {
   "cell_type": "code",
   "execution_count": 75,
   "id": "a510b84c",
   "metadata": {},
   "outputs": [
    {
     "name": "stdout",
     "output_type": "stream",
     "text": [
      "      FactValueNumeric  PM25_Value\n",
      "0                10.01       10.01\n",
      "1                10.02       10.02\n",
      "2                10.06       10.06\n",
      "3                10.08       10.08\n",
      "4                10.09       10.09\n",
      "...                ...         ...\n",
      "9445              9.92        9.92\n",
      "9446              9.92        9.92\n",
      "9447              9.94        9.94\n",
      "9448              9.95        9.95\n",
      "9449             92.79       92.79\n",
      "\n",
      "[9450 rows x 2 columns]\n"
     ]
    }
   ],
   "source": [
    "# 1.2: Make a New Column\n",
    "\n",
    "air_quality[\"PM25_Value\"] = air_quality[\"FactValueNumeric\"]\n",
    "\n",
    "print(air_quality[[\"FactValueNumeric\", \"PM25_Value\"]])"
   ]
  },
  {
   "cell_type": "code",
   "execution_count": 89,
   "id": "c0cb0d56",
   "metadata": {},
   "outputs": [
    {
     "name": "stderr",
     "output_type": "stream",
     "text": [
      "/var/folders/0l/z1_8qd391x5dry1z7c9fk3c80000gn/T/ipykernel_24338/1394259312.py:3: FutureWarning: The default value of numeric_only in DataFrameGroupBy.mean is deprecated. In a future version, numeric_only will default to False. Either specify numeric_only or select only columns which should be valid for the function.\n",
      "  avg_table = air_quality.groupby([\"ParentLocation\"]).mean()\n"
     ]
    },
    {
     "data": {
      "text/html": [
       "<div>\n",
       "<style scoped>\n",
       "    .dataframe tbody tr th:only-of-type {\n",
       "        vertical-align: middle;\n",
       "    }\n",
       "\n",
       "    .dataframe tbody tr th {\n",
       "        vertical-align: top;\n",
       "    }\n",
       "\n",
       "    .dataframe thead th {\n",
       "        text-align: right;\n",
       "    }\n",
       "</style>\n",
       "<table border=\"1\" class=\"dataframe\">\n",
       "  <thead>\n",
       "    <tr style=\"text-align: right;\">\n",
       "      <th></th>\n",
       "      <th>IndicatorCode</th>\n",
       "      <th>Indicator</th>\n",
       "      <th>ValueType</th>\n",
       "      <th>ParentLocationCode</th>\n",
       "      <th>ParentLocation</th>\n",
       "      <th>Location type</th>\n",
       "      <th>SpatialDimValueCode</th>\n",
       "      <th>Location</th>\n",
       "      <th>Period type</th>\n",
       "      <th>Period_x</th>\n",
       "      <th>...</th>\n",
       "      <th>DataSource_y</th>\n",
       "      <th>FactValueNumericPrefix_y</th>\n",
       "      <th>FactValueNumeric_y</th>\n",
       "      <th>FactValueUoM_y</th>\n",
       "      <th>FactValueNumericLowPrefix_y</th>\n",
       "      <th>FactValueNumericLow_y</th>\n",
       "      <th>FactValueNumericHighPrefix_y</th>\n",
       "      <th>FactValueNumericHigh_y</th>\n",
       "      <th>FactValueTranslationID_y</th>\n",
       "      <th>FactComments_y</th>\n",
       "    </tr>\n",
       "  </thead>\n",
       "  <tbody>\n",
       "  </tbody>\n",
       "</table>\n",
       "<p>0 rows × 54 columns</p>\n",
       "</div>"
      ],
      "text/plain": [
       "Empty DataFrame\n",
       "Columns: [IndicatorCode, Indicator, ValueType, ParentLocationCode, ParentLocation, Location type, SpatialDimValueCode, Location, Period type, Period_x, IsLatestYear_x, Dim1 type, Dim1, Dim1ValueCode, Dim2 type_x, Dim2_x, Dim2ValueCode_x, Dim3 type_x, Dim3_x, Dim3ValueCode_x, DataSourceDimValueCode_x, DataSource_x, FactValueNumericPrefix_x, FactValueNumeric_x, FactValueUoM_x, FactValueNumericLowPrefix_x, FactValueNumericLow_x, FactValueNumericHighPrefix_x, FactValueNumericHigh_x, Value, FactValueTranslationID_x, FactComments_x, Language, DateModified, PM25_Value, Period_y, IsLatestYear_y, Dim2 type_y, Dim2_y, Dim2ValueCode_y, Dim3 type_y, Dim3_y, Dim3ValueCode_y, DataSourceDimValueCode_y, DataSource_y, FactValueNumericPrefix_y, FactValueNumeric_y, FactValueUoM_y, FactValueNumericLowPrefix_y, FactValueNumericLow_y, FactValueNumericHighPrefix_y, FactValueNumericHigh_y, FactValueTranslationID_y, FactComments_y]\n",
       "Index: []\n",
       "\n",
       "[0 rows x 54 columns]"
      ]
     },
     "execution_count": 89,
     "metadata": {},
     "output_type": "execute_result"
    }
   ],
   "source": [
    "# 1.3: Calculate Average PM2.5 Concentration\n",
    "\n",
    "avg_table = air_quality.groupby([\"ParentLocation\"]).mean()\n",
    "avg_table\n",
    "#averages = avg_table[\"PM25_Value\"].mean()\n",
    "#pd.merge(air_quality, avg_table, on = \"PM25_Value\")\n",
    "#air_quality.insert(len(air_quality.columns), \"Average_PM25\", averages)\n",
    "#print(air_quality[[\"Location\", \"ParentLocation\", \"PM25_Value\", \"Average_PM25\"]])"
   ]
  },
  {
   "cell_type": "code",
   "execution_count": 85,
   "id": "ddf2cf68",
   "metadata": {},
   "outputs": [],
   "source": [
    "air_quality = air_quality.drop(\"Average_PM25\", axis = 1)"
   ]
  },
  {
   "cell_type": "code",
   "execution_count": null,
   "id": "6976fca8",
   "metadata": {},
   "outputs": [],
   "source": []
  }
 ],
 "metadata": {
  "kernelspec": {
   "display_name": "Python 3 (ipykernel)",
   "language": "python",
   "name": "python3"
  },
  "language_info": {
   "codemirror_mode": {
    "name": "ipython",
    "version": 3
   },
   "file_extension": ".py",
   "mimetype": "text/x-python",
   "name": "python",
   "nbconvert_exporter": "python",
   "pygments_lexer": "ipython3",
   "version": "3.11.2"
  }
 },
 "nbformat": 4,
 "nbformat_minor": 5
}
