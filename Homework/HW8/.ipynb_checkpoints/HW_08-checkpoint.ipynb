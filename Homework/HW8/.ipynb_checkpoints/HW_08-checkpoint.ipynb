{
 "cells": [
  {
   "cell_type": "code",
   "execution_count": 2,
   "id": "23d0862e",
   "metadata": {},
   "outputs": [],
   "source": [
    "# HOMEWORK 8: CURVE FITTING AND LINEAR REGRESSION"
   ]
  },
  {
   "cell_type": "code",
   "execution_count": 4,
   "id": "926cd568",
   "metadata": {},
   "outputs": [],
   "source": [
    "import matplotlib.pyplot as plt\n",
    "import scipy.optimize as fit\n",
    "import numpy as np\n",
    "import pandas as pd"
   ]
  },
  {
   "cell_type": "code",
   "execution_count": null,
   "id": "177ca68d",
   "metadata": {},
   "outputs": [],
   "source": [
    "# 1) Curve Fitting Guided Problem\n",
    "\n",
    "# (1a)\n",
    "df = pd.read_csv(\"GlobalLandTemperaturesByState.csv\")\n",
    "state_temps = df.drop(columns=[\"AverageTemperatureUncertainty\", \"Country\"])\n",
    "filtered = state_temps.loc[state_temps[\"dt\"] >= \"2000-01-01\"]"
   ]
  },
  {
   "cell_type": "code",
   "execution_count": null,
   "id": "7ec5d036",
   "metadata": {},
   "outputs": [],
   "source": []
  }
 ],
 "metadata": {
  "kernelspec": {
   "display_name": "Python 3 (ipykernel)",
   "language": "python",
   "name": "python3"
  },
  "language_info": {
   "codemirror_mode": {
    "name": "ipython",
    "version": 3
   },
   "file_extension": ".py",
   "mimetype": "text/x-python",
   "name": "python",
   "nbconvert_exporter": "python",
   "pygments_lexer": "ipython3",
   "version": "3.11.2"
  }
 },
 "nbformat": 4,
 "nbformat_minor": 5
}
