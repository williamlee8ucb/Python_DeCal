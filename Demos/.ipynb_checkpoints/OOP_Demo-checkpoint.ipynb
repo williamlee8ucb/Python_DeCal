{
 "cells": [
  {
   "cell_type": "code",
   "execution_count": 16,
   "id": "1d25d5f4",
   "metadata": {},
   "outputs": [],
   "source": [
    "# Creating a Class\n",
    "class Animal:\n",
    "    def __init__(self, name, age, height):\n",
    "        self.name = name\n",
    "        self.age = age\n",
    "        self.height = height\n",
    "        self.babies = 0\n",
    "    def run(self):\n",
    "        print(self.name, \"is running!\")\n",
    "    def baby_maker(self):\n",
    "        self.babies += 1\n",
    "    def sleep(self, hours):\n",
    "        self.height += int(hours)\n",
    "        print(self.name, \"is sleeping\")\n",
    "        \n",
    "    \n",
    "        \n",
    "        "
   ]
  },
  {
   "cell_type": "code",
   "execution_count": 19,
   "id": "f5ddb1c1",
   "metadata": {},
   "outputs": [
    {
     "name": "stdout",
     "output_type": "stream",
     "text": [
      "Jerry is running!\n"
     ]
    }
   ],
   "source": [
    "# Creating a Class Object\n",
    "emu = Animal(\"Jerry\", \"23\",67)\n",
    "emu.run()"
   ]
  },
  {
   "cell_type": "code",
   "execution_count": 20,
   "id": "1dbe5c3b",
   "metadata": {},
   "outputs": [
    {
     "name": "stdout",
     "output_type": "stream",
     "text": [
      "Jerry is sleeping\n"
     ]
    }
   ],
   "source": [
    "emu.sleep(10)"
   ]
  },
  {
   "cell_type": "code",
   "execution_count": 32,
   "id": "594084c5",
   "metadata": {},
   "outputs": [],
   "source": [
    "# Inheritance\n",
    "\n",
    "class Dog(Animal):\n",
    "    def __init__(self, name, age, height, breed):\n",
    "        super().__init__(name, age, height)\n",
    "        self.breed = breed\n",
    "    def bark(self):\n",
    "        print(self.name, \"is barking!\")\n",
    "        "
   ]
  },
  {
   "cell_type": "code",
   "execution_count": 33,
   "id": "de2c83de",
   "metadata": {},
   "outputs": [],
   "source": [
    "milo = Dog(\"milo\", 1, 20, \"terrier\")"
   ]
  },
  {
   "cell_type": "code",
   "execution_count": 34,
   "id": "29ffa273",
   "metadata": {},
   "outputs": [
    {
     "name": "stdout",
     "output_type": "stream",
     "text": [
      "milo is running!\n"
     ]
    }
   ],
   "source": [
    "# inherits methods and attributes of parent class\n",
    "milo.babies\n",
    "milo.run()"
   ]
  },
  {
   "cell_type": "code",
   "execution_count": 35,
   "id": "55b1e71f",
   "metadata": {},
   "outputs": [
    {
     "name": "stdout",
     "output_type": "stream",
     "text": [
      "milo is barking!\n"
     ]
    }
   ],
   "source": [
    "milo.bark()"
   ]
  },
  {
   "cell_type": "code",
   "execution_count": null,
   "id": "29723139",
   "metadata": {},
   "outputs": [],
   "source": []
  }
 ],
 "metadata": {
  "kernelspec": {
   "display_name": "Python 3 (ipykernel)",
   "language": "python",
   "name": "python3"
  },
  "language_info": {
   "codemirror_mode": {
    "name": "ipython",
    "version": 3
   },
   "file_extension": ".py",
   "mimetype": "text/x-python",
   "name": "python",
   "nbconvert_exporter": "python",
   "pygments_lexer": "ipython3",
   "version": "3.11.2"
  }
 },
 "nbformat": 4,
 "nbformat_minor": 5
}
